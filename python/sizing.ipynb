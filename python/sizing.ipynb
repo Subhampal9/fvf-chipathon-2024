{
 "cells": [
  {
   "cell_type": "code",
   "execution_count": null,
   "metadata": {},
   "outputs": [],
   "source": [
    "import numpy as np\n",
    "import pandas as pd\n",
    "from pygmid import Lookup as lk\n",
    "\n",
    "n = lk('../../techsweep/simulation/nfet_01v8.mat')\n",
    "p = lk('../../techsweep/simulation/pfet_01v8_lvt.mat')\n",
    "\n",
    "T = 300; ib = 2.5e-6; cl = 1e-12\n",
    "type = ['p', 'n', 'n']\n",
    "l = np.array([1.0, 1.0, 1.0])\n",
    "w = np.array([2.0, 15.0, 15.0])\n",
    "nf = np.array([1, 1, 1])\n",
    "\n",
    "\n",
    "id = np.array([ib, ib, ib])\n",
    "gm_id=np.zeros(len(l))\n",
    "gm_cgg=np.zeros(len(l))\n",
    "gm_cdd=np.zeros(len(l))\n",
    "gm_cgd=np.zeros(len(l))\n",
    "gm_gds=np.zeros(len(l))\n",
    "sth_gm=np.zeros(len(l))\n",
    "\n",
    "for i in range(len(l)):\n",
    "  if type[i] == 'n':\n",
    "    gm_id[i]  = n.lookup('GM_ID',  ID_W=id[i]/w[i], L=l[i], VDS=0.3)\n",
    "    gm_cgg[i] = n.lookup('GM_CGG', ID_W=id[i]/w[i], L=l[i], VDS=0.3)\n",
    "    gm_cdd[i] = n.lookup('GM_CDD', ID_W=id[i]/w[i], L=l[i], VDS=0.3)\n",
    "    gm_cgd[i] = n.lookup('GM_CGD', ID_W=id[i]/w[i], L=l[i], VDS=0.3)\n",
    "    gm_gds[i] = n.lookup('GM_GDS', ID_W=id[i]/w[i], L=l[i], VDS=0.3)\n",
    "    sth_gm[i] = n.lookup('STH_GM', ID_W=id[i]/w[i], L=l[i], VDS=0.3)\n",
    "  else:\n",
    "    gm_id[i]  = p.lookup('GM_ID',  ID_W=id[i]/w[i], L=l[i]) \n",
    "    gm_cgg[i] = p.lookup('GM_CGG', ID_W=id[i]/w[i], L=l[i])\n",
    "    gm_cdd[i] = p.lookup('GM_CDD', ID_W=id[i]/w[i], L=l[i])\n",
    "    gm_cgd[i] = p.lookup('GM_CGD', ID_W=id[i]/w[i], L=l[i])\n",
    "    gm_gds[i] = p.lookup('GM_GDS', ID_W=id[i]/w[i], L=l[i])\n",
    "    sth_gm[i] = p.lookup('STH_GM', ID_W=id[i]/w[i], L=l[i])\n",
    "\n",
    "gm = id*gm_id\n",
    "gds = gm/gm_gds\n",
    "cgg = gm/gm_cgg\n",
    "cdd = gm/gm_cgg\n",
    "cgd = gm/gm_cgd\n",
    "\n",
    "#df = pd.DataFrame( [A0, UGF/1e6, PM, NOI/1e-6], ['A0', 'UGF (MHz)', 'PM (deg)', 'Noise (uVrms)'], columns=['Value']); df.round(2)\n",
    "df = pd.DataFrame( [gm_id, gm_cgg/1e9/2/np.pi], ['gm_id (S/A)', 'ft (GHz)'], columns=['M0', 'M1', 'M2']); df.round(2)"
   ]
  }
 ],
 "metadata": {
  "kernelspec": {
   "display_name": "Python 3",
   "language": "python",
   "name": "python3"
  },
  "language_info": {
   "codemirror_mode": {
    "name": "ipython",
    "version": 3
   },
   "file_extension": ".py",
   "mimetype": "text/x-python",
   "name": "python",
   "nbconvert_exporter": "python",
   "pygments_lexer": "ipython3",
   "version": "3.10.6"
  }
 },
 "nbformat": 4,
 "nbformat_minor": 2
}
